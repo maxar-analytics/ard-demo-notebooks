{
 "cells": [
  {
   "cell_type": "markdown",
   "id": "2e4c01ba",
   "metadata": {},
   "source": [
    "In this notebook, we'll walk through the process of starting with a shapefile of an AOI (area of interest) where there has been change over time, creating `Select` objects for `before` and `after` periods, and visualizing our AOI and `Select` objects."
   ]
  },
  {
   "cell_type": "markdown",
   "id": "10836a22",
   "metadata": {},
   "source": [
    "Before we do anything else, let IPython know not to cut off any of our cell outputs:"
   ]
  },
  {
   "cell_type": "code",
   "execution_count": null,
   "id": "b46a0ff1",
   "metadata": {},
   "outputs": [],
   "source": [
    "%%javascript\n",
    "IPython.OutputArea.prototype._should_scroll = lines => false;"
   ]
  },
  {
   "cell_type": "markdown",
   "id": "e3a3d72b",
   "metadata": {},
   "source": [
    "Run the necessary imports:"
   ]
  },
  {
   "cell_type": "code",
   "execution_count": null,
   "id": "f4b808df",
   "metadata": {
    "scrolled": false
   },
   "outputs": [],
   "source": [
    "from vizard import enter_ard_creds, display_aoi_viz, generate_iframe_html, display_result_tiles\n",
    "from max_ard.io.inputs import convert_to_shapely\n",
    "from max_ard.select import ard_bbox_generator\n",
    "from max_ard import Select\n",
    "from IPython.core.getipython import get_ipython\n",
    "from warnings import catch_warnings, simplefilter\n",
    "import webbrowser"
   ]
  },
  {
   "cell_type": "markdown",
   "id": "734b521a",
   "metadata": {},
   "source": [
    "When you run this cell you will be prompted to enter your ARD credentials (you need to be authenticated in order to run the rest of this notebook):"
   ]
  },
  {
   "cell_type": "code",
   "execution_count": null,
   "id": "d583676b",
   "metadata": {},
   "outputs": [],
   "source": [
    "enter_ard_creds()"
   ]
  },
  {
   "cell_type": "markdown",
   "id": "970b7cce",
   "metadata": {},
   "source": [
    "Now on to the interesting stuff!\n",
    "\n",
    "We started with [Maxar PCM](https://www.maxar.com/products/persistent-change-monitoring) (Persistent Change Monitoring) data, looked at the area we were interested in, and selected for the change that had occurred in 2017. Our output shapefile was `select_2017.shp` (see below)."
   ]
  },
  {
   "cell_type": "markdown",
   "id": "52e4346f",
   "metadata": {},
   "source": [
    "Convert your AOI geometry into an acceptable input for a `Select`:"
   ]
  },
  {
   "cell_type": "code",
   "execution_count": null,
   "id": "63e528f2",
   "metadata": {
    "scrolled": false
   },
   "outputs": [],
   "source": [
    "aoi = '../apac-notebooks/Los_Angeles/select_2017.shp' # path to multipolygon shapefile\n",
    "\n",
    "# conver the shapefile to a Shapely shape\n",
    "shapely_aoi = convert_to_shapely(aoi)\n",
    "\n",
    "# now run the shape through ard_bbox_generator to get it in an acceptable format for a Select input\n",
    "fixed_aoi = ard_bbox_generator(shapely_aoi)"
   ]
  },
  {
   "cell_type": "markdown",
   "id": "93979d25",
   "metadata": {},
   "source": [
    "Take a look at your `Select`-ready AOI geometry:"
   ]
  },
  {
   "cell_type": "code",
   "execution_count": null,
   "id": "9e6c0516",
   "metadata": {
    "scrolled": true
   },
   "outputs": [],
   "source": [
    "display_aoi_viz(fixed_aoi)"
   ]
  },
  {
   "cell_type": "markdown",
   "id": "34d13ac6",
   "metadata": {},
   "source": [
    "Specify the beginning and ending dates you'd like to search within:"
   ]
  },
  {
   "cell_type": "code",
   "execution_count": null,
   "id": "edca064b",
   "metadata": {
    "scrolled": false
   },
   "outputs": [],
   "source": [
    "before_start_date = \"2014-01-01\"\n",
    "before_end_date = \"2015-01-01\"\n",
    "\n",
    "after_start_date = \"2020-01-01\"\n",
    "after_end_date = \"2021-01-01\""
   ]
  },
  {
   "cell_type": "markdown",
   "id": "3a692c19",
   "metadata": {},
   "source": [
    "Enter the stack depth you're looking for:"
   ]
  },
  {
   "cell_type": "code",
   "execution_count": null,
   "id": "81f198e0",
   "metadata": {
    "scrolled": false
   },
   "outputs": [],
   "source": [
    "stack_depth = 20"
   ]
  },
  {
   "cell_type": "markdown",
   "id": "c82ebaaa",
   "metadata": {},
   "source": [
    "Specify the minimum cloud-free percentage and minimum data percentage you'd like:"
   ]
  },
  {
   "cell_type": "code",
   "execution_count": null,
   "id": "66b5e09e",
   "metadata": {
    "scrolled": false
   },
   "outputs": [],
   "source": [
    "min_cloudfree_pct = 95\n",
    "min_data_pct = 75"
   ]
  },
  {
   "cell_type": "markdown",
   "id": "678ea8d5",
   "metadata": {},
   "source": [
    "Now we'll construct the query using the variables you defined above:"
   ]
  },
  {
   "cell_type": "code",
   "execution_count": null,
   "id": "099791a1",
   "metadata": {
    "scrolled": false
   },
   "outputs": [],
   "source": [
    "before_datetime =  f'{before_start_date}T00:00:00Z/{before_end_date}T00:00:00Z'\n",
    "after_datetime =  f'{after_start_date}T00:00:00Z/{after_end_date}T00:00:00Z'\n",
    "\n",
    "query = {\n",
    "    \"aoi:cloud_free_percentage\": {\n",
    "        \"gte\": min_cloudfree_pct\n",
    "    },\n",
    "    \"aoi:data_percentage\": {\n",
    "        \"gte\": min_data_pct\n",
    "    }\n",
    "}\n",
    "\n",
    "s_before = Select(datetime=before_datetime, intersects=fixed_aoi, query=query, stack_depth=stack_depth)\n",
    "s_after = Select(datetime=after_datetime, intersects=fixed_aoi, query=query, stack_depth=stack_depth)"
   ]
  },
  {
   "cell_type": "markdown",
   "id": "065bc422",
   "metadata": {},
   "source": [
    "Run the following cell to see the full request objects if you're curious:"
   ]
  },
  {
   "cell_type": "code",
   "execution_count": null,
   "id": "c0b2a121",
   "metadata": {
    "scrolled": false
   },
   "outputs": [],
   "source": [
    "print('s_before: ', s_before.request.to_payload(), '\\n')\n",
    "print('s_after: ', s_after.request.to_payload())"
   ]
  },
  {
   "cell_type": "markdown",
   "id": "47e929c3",
   "metadata": {},
   "source": [
    "Now we're ready to submit the requests:"
   ]
  },
  {
   "cell_type": "code",
   "execution_count": null,
   "id": "9846da33",
   "metadata": {
    "scrolled": false
   },
   "outputs": [],
   "source": [
    "s_before.submit()\n",
    "s_before.wait_for_success()\n",
    "print(f'{str(s_before)[5:-1]}: {s_before.status}')\n",
    "\n",
    "s_after.submit()\n",
    "s_after.wait_for_success()\n",
    "print(f'{str(s_after)[5:-1]}: {s_after.status}')"
   ]
  },
  {
   "cell_type": "markdown",
   "id": "23b394ee",
   "metadata": {},
   "source": [
    "Save the `Select ID`s as variables:"
   ]
  },
  {
   "cell_type": "code",
   "execution_count": null,
   "id": "9b33f46e",
   "metadata": {},
   "outputs": [],
   "source": [
    "before_id = s_before.select_id\n",
    "after_id = s_after.select_id"
   ]
  },
  {
   "cell_type": "markdown",
   "id": "2e40507b",
   "metadata": {},
   "source": [
    "We're about to visualize the `Select` objects. First, adjust the pixel dimensions and alignments of the iframes for your `before` and `after` `Select` objects if you'd like."
   ]
  },
  {
   "cell_type": "code",
   "execution_count": null,
   "id": "0d0ccef9",
   "metadata": {
    "scrolled": false
   },
   "outputs": [],
   "source": [
    "before_height = '450'\n",
    "before_width = '600'\n",
    "\n",
    "after_height = '450'\n",
    "after_width = '600'\n",
    "\n",
    "before_align = 'left'\n",
    "after_align = 'right'"
   ]
  },
  {
   "cell_type": "markdown",
   "id": "00a99c88",
   "metadata": {},
   "source": [
    "Run this cell to generate your visualizations:"
   ]
  },
  {
   "cell_type": "code",
   "execution_count": null,
   "id": "d65fff4e",
   "metadata": {},
   "outputs": [],
   "source": [
    "before_iframe_html = generate_iframe_html(\n",
    "    id=before_id, \n",
    "    height=before_height, \n",
    "    width=before_width, \n",
    "    align=before_align\n",
    ")\n",
    "\n",
    "after_iframe_html = generate_iframe_html(\n",
    "    id=after_id, \n",
    "    height=after_height, \n",
    "    width=after_width, \n",
    "    align=after_align\n",
    ")"
   ]
  },
  {
   "cell_type": "markdown",
   "id": "0b10c690",
   "metadata": {},
   "source": [
    "Now let's output the visualizations into the notebook:"
   ]
  },
  {
   "cell_type": "code",
   "execution_count": null,
   "id": "289301ca",
   "metadata": {
    "scrolled": false
   },
   "outputs": [],
   "source": [
    "with catch_warnings(): \n",
    "    \n",
    "    # IPython will advise us to use its built-in display feature instead--don't listen\n",
    "    simplefilter('ignore')\n",
    "    \n",
    "    get_ipython().run_cell_magic('html', '', before_iframe_html)\n",
    "    get_ipython().run_cell_magic('html', '', after_iframe_html)"
   ]
  },
  {
   "cell_type": "markdown",
   "id": "9c32ae56",
   "metadata": {},
   "source": [
    "Uncomment the code in this cell and run it if you'd like to open your `Select` visualizations in new tabs for further exploration."
   ]
  },
  {
   "cell_type": "code",
   "execution_count": null,
   "id": "d9dcc8d0",
   "metadata": {},
   "outputs": [],
   "source": [
    "# before_link = s_before.get_signed_link('html')\n",
    "# after_link = s_after.get_signed_link('html')\n",
    "\n",
    "# webbrowser.open(before_link)\n",
    "# webbrowser.open(after_link)"
   ]
  },
  {
   "cell_type": "markdown",
   "id": "5bdeb093",
   "metadata": {},
   "source": [
    "Run this cell to see a comparison of \"before\" and \"after\" imagery from the cell where our AOI best fits."
   ]
  },
  {
   "cell_type": "code",
   "execution_count": null,
   "id": "210b49bd",
   "metadata": {},
   "outputs": [],
   "source": [
    "display_result_tiles([s_before, s_after], 'Z11-031311102133') # we found the cell ID from examining the Select visualizations"
   ]
  }
 ],
 "metadata": {
  "kernelspec": {
   "display_name": "Python 3",
   "language": "python",
   "name": "python3"
  },
  "language_info": {
   "codemirror_mode": {
    "name": "ipython",
    "version": 3
   },
   "file_extension": ".py",
   "mimetype": "text/x-python",
   "name": "python",
   "nbconvert_exporter": "python",
   "pygments_lexer": "ipython3",
   "version": "3.9.5"
  }
 },
 "nbformat": 4,
 "nbformat_minor": 5
}
